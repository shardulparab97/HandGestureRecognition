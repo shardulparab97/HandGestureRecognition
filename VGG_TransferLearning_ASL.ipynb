{
 "cells": [
  {
   "cell_type": "code",
   "execution_count": 26,
   "metadata": {},
   "outputs": [],
   "source": [
    "from keras.models import Model\n",
    "from keras.layers import Dense,Flatten\n",
    "from keras.applications import vgg16\n",
    "from keras import backend as K\n",
    "from keras.preprocessing import image\n",
    "from keras.models import Sequential\n",
    "from keras.models import Model\n",
    "from keras.layers import Flatten\n",
    "from keras.layers import Dense\n",
    "from keras.layers import Input\n",
    "from keras.layers import Conv2D\n",
    "from keras.layers import Dropout\n",
    "from keras.layers import MaxPooling2D\n",
    "from keras.layers import GlobalMaxPooling2D\n",
    "from keras.layers import GlobalAveragePooling2D\n",
    "import tensorflow as tf\n",
    "from keras.backend.tensorflow_backend import set_session\n",
    "config = tf.ConfigProto()\n",
    "config.gpu_options.per_process_gpu_memory_fraction = 0.3\n",
    "set_session(tf.Session(config=config))\n",
    "import tensorboard"
   ]
  },
  {
   "cell_type": "code",
   "execution_count": 27,
   "metadata": {},
   "outputs": [],
   "source": [
    "input_tensor = Input(shape=(224,224,3))\n",
    "model = vgg16.VGG16(weights='imagenet', include_top=False, input_tensor=input_tensor)"
   ]
  },
  {
   "cell_type": "code",
   "execution_count": 28,
   "metadata": {},
   "outputs": [
    {
     "data": {
      "text/plain": [
       "<keras.engine.training.Model at 0x7ff6fe7b6d68>"
      ]
     },
     "execution_count": 28,
     "metadata": {},
     "output_type": "execute_result"
    }
   ],
   "source": [
    "model"
   ]
  },
  {
   "cell_type": "code",
   "execution_count": 29,
   "metadata": {},
   "outputs": [
    {
     "name": "stdout",
     "output_type": "stream",
     "text": [
      "_________________________________________________________________\n",
      "Layer (type)                 Output Shape              Param #   \n",
      "=================================================================\n",
      "input_2 (InputLayer)         (None, 224, 224, 3)       0         \n",
      "_________________________________________________________________\n",
      "block1_conv1 (Conv2D)        (None, 224, 224, 64)      1792      \n",
      "_________________________________________________________________\n",
      "block1_conv2 (Conv2D)        (None, 224, 224, 64)      36928     \n",
      "_________________________________________________________________\n",
      "block1_pool (MaxPooling2D)   (None, 112, 112, 64)      0         \n",
      "_________________________________________________________________\n",
      "block2_conv1 (Conv2D)        (None, 112, 112, 128)     73856     \n",
      "_________________________________________________________________\n",
      "block2_conv2 (Conv2D)        (None, 112, 112, 128)     147584    \n",
      "_________________________________________________________________\n",
      "block2_pool (MaxPooling2D)   (None, 56, 56, 128)       0         \n",
      "_________________________________________________________________\n",
      "block3_conv1 (Conv2D)        (None, 56, 56, 256)       295168    \n",
      "_________________________________________________________________\n",
      "block3_conv2 (Conv2D)        (None, 56, 56, 256)       590080    \n",
      "_________________________________________________________________\n",
      "block3_conv3 (Conv2D)        (None, 56, 56, 256)       590080    \n",
      "_________________________________________________________________\n",
      "block3_pool (MaxPooling2D)   (None, 28, 28, 256)       0         \n",
      "_________________________________________________________________\n",
      "block4_conv1 (Conv2D)        (None, 28, 28, 512)       1180160   \n",
      "_________________________________________________________________\n",
      "block4_conv2 (Conv2D)        (None, 28, 28, 512)       2359808   \n",
      "_________________________________________________________________\n",
      "block4_conv3 (Conv2D)        (None, 28, 28, 512)       2359808   \n",
      "_________________________________________________________________\n",
      "block4_pool (MaxPooling2D)   (None, 14, 14, 512)       0         \n",
      "_________________________________________________________________\n",
      "block5_conv1 (Conv2D)        (None, 14, 14, 512)       2359808   \n",
      "_________________________________________________________________\n",
      "block5_conv2 (Conv2D)        (None, 14, 14, 512)       2359808   \n",
      "_________________________________________________________________\n",
      "block5_conv3 (Conv2D)        (None, 14, 14, 512)       2359808   \n",
      "_________________________________________________________________\n",
      "block5_pool (MaxPooling2D)   (None, 7, 7, 512)         0         \n",
      "=================================================================\n",
      "Total params: 14,714,688\n",
      "Trainable params: 14,714,688\n",
      "Non-trainable params: 0\n",
      "_________________________________________________________________\n"
     ]
    }
   ],
   "source": [
    "model.summary()"
   ]
  },
  {
   "cell_type": "code",
   "execution_count": 30,
   "metadata": {},
   "outputs": [],
   "source": [
    "for layer in model.layers:\n",
    "    \n",
    "    layer.trainable = False\n"
   ]
  },
  {
   "cell_type": "code",
   "execution_count": 31,
   "metadata": {},
   "outputs": [],
   "source": [
    "model_ft = Sequential()\n",
    "\n",
    "for layer in model.layers:\n",
    "    model_ft.add(layer)\n"
   ]
  },
  {
   "cell_type": "code",
   "execution_count": 32,
   "metadata": {},
   "outputs": [],
   "source": [
    "model_ft.add(Flatten())\n",
    "model_ft.add(Dense(1024, activation='relu'))\n",
    "#model_ft.add(Dropout(0.3))\n",
    "model_ft.add(Dense(1024, activation='relu'))\n",
    "#model_ft.add(Dropout(0.3))\n",
    "model_ft.add(Dense(29, activation='softmax'))"
   ]
  },
  {
   "cell_type": "code",
   "execution_count": 33,
   "metadata": {},
   "outputs": [
    {
     "name": "stdout",
     "output_type": "stream",
     "text": [
      "_________________________________________________________________\n",
      "Layer (type)                 Output Shape              Param #   \n",
      "=================================================================\n",
      "block1_conv1 (Conv2D)        (None, 224, 224, 64)      1792      \n",
      "_________________________________________________________________\n",
      "block1_conv2 (Conv2D)        (None, 224, 224, 64)      36928     \n",
      "_________________________________________________________________\n",
      "block1_pool (MaxPooling2D)   (None, 112, 112, 64)      0         \n",
      "_________________________________________________________________\n",
      "block2_conv1 (Conv2D)        (None, 112, 112, 128)     73856     \n",
      "_________________________________________________________________\n",
      "block2_conv2 (Conv2D)        (None, 112, 112, 128)     147584    \n",
      "_________________________________________________________________\n",
      "block2_pool (MaxPooling2D)   (None, 56, 56, 128)       0         \n",
      "_________________________________________________________________\n",
      "block3_conv1 (Conv2D)        (None, 56, 56, 256)       295168    \n",
      "_________________________________________________________________\n",
      "block3_conv2 (Conv2D)        (None, 56, 56, 256)       590080    \n",
      "_________________________________________________________________\n",
      "block3_conv3 (Conv2D)        (None, 56, 56, 256)       590080    \n",
      "_________________________________________________________________\n",
      "block3_pool (MaxPooling2D)   (None, 28, 28, 256)       0         \n",
      "_________________________________________________________________\n",
      "block4_conv1 (Conv2D)        (None, 28, 28, 512)       1180160   \n",
      "_________________________________________________________________\n",
      "block4_conv2 (Conv2D)        (None, 28, 28, 512)       2359808   \n",
      "_________________________________________________________________\n",
      "block4_conv3 (Conv2D)        (None, 28, 28, 512)       2359808   \n",
      "_________________________________________________________________\n",
      "block4_pool (MaxPooling2D)   (None, 14, 14, 512)       0         \n",
      "_________________________________________________________________\n",
      "block5_conv1 (Conv2D)        (None, 14, 14, 512)       2359808   \n",
      "_________________________________________________________________\n",
      "block5_conv2 (Conv2D)        (None, 14, 14, 512)       2359808   \n",
      "_________________________________________________________________\n",
      "block5_conv3 (Conv2D)        (None, 14, 14, 512)       2359808   \n",
      "_________________________________________________________________\n",
      "block5_pool (MaxPooling2D)   (None, 7, 7, 512)         0         \n",
      "_________________________________________________________________\n",
      "flatten_3 (Flatten)          (None, 25088)             0         \n",
      "_________________________________________________________________\n",
      "dense_4 (Dense)              (None, 1024)              25691136  \n",
      "_________________________________________________________________\n",
      "dense_5 (Dense)              (None, 1024)              1049600   \n",
      "_________________________________________________________________\n",
      "dense_6 (Dense)              (None, 29)                29725     \n",
      "=================================================================\n",
      "Total params: 41,485,149\n",
      "Trainable params: 26,770,461\n",
      "Non-trainable params: 14,714,688\n",
      "_________________________________________________________________\n"
     ]
    }
   ],
   "source": [
    "model_ft.summary()"
   ]
  },
  {
   "cell_type": "code",
   "execution_count": 34,
   "metadata": {},
   "outputs": [],
   "source": [
    "import keras\n",
    "\n",
    "sgd_apna =keras.optimizers.Adam(lr=0.00001, beta_1=0.9, beta_2=0.999, epsilon=None, decay=0.0001, amsgrad=False)\n",
    "model_ft.compile(optimizer=sgd_apna, loss='categorical_crossentropy', metrics=['accuracy'])\n"
   ]
  },
  {
   "cell_type": "code",
   "execution_count": 35,
   "metadata": {},
   "outputs": [],
   "source": [
    "# import pickle"
   ]
  },
  {
   "cell_type": "code",
   "execution_count": 36,
   "metadata": {},
   "outputs": [],
   "source": [
    "# # ValData= []\n",
    "# with open(\"ValData.pkl\",\"rb\") as f:\n",
    "#     ValData = pickle.load(f)"
   ]
  },
  {
   "cell_type": "code",
   "execution_count": 37,
   "metadata": {},
   "outputs": [],
   "source": [
    "# TrainData= []\n",
    "# with open(\"TrainData.pkl\",\"rb\") as f:\n",
    "#     TrainData = pickle.load(f)"
   ]
  },
  {
   "cell_type": "code",
   "execution_count": 38,
   "metadata": {},
   "outputs": [],
   "source": [
    "# len(TrainData)"
   ]
  },
  {
   "cell_type": "code",
   "execution_count": 39,
   "metadata": {},
   "outputs": [],
   "source": [
    "# imgData=[]\n",
    "# imgLabels=[]\n",
    "# validityData = []\n",
    "# validityLabels = []\n",
    "# for i in range(len(TrainData)):\n",
    "#     imgData.append(TrainData[i][0])\n",
    "#     imgLabddels.append(TrainData[i][1])\n",
    "    \n",
    "# for i in range(len(ValData)):\n",
    "#     validityData.append(ValData[i][0])\n",
    "#     validityLabels.append(ValData[i][1])\n"
   ]
  },
  {
   "cell_type": "code",
   "execution_count": 40,
   "metadata": {},
   "outputs": [],
   "source": [
    "# def getImages(img_path):\n",
    "#     img = image.load_img(img_path, target_size=(224, 224))\n",
    "#     x = image.img_to_array(img)\n",
    "#     return x"
   ]
  },
  {
   "cell_type": "code",
   "execution_count": 41,
   "metadata": {},
   "outputs": [],
   "source": [
    "# finalTrainData= []\n",
    "# count = 0\n",
    "# for i in range(len(imgData)):\n",
    "#     count += 1\n",
    "#     print(count)\n",
    "#     #print(imgData[i])\n",
    "#     finalTrainData.append(getImages(imgData[i]))"
   ]
  },
  {
   "cell_type": "code",
   "execution_count": 42,
   "metadata": {},
   "outputs": [
    {
     "name": "stdout",
     "output_type": "stream",
     "text": [
      "Found 69600 images belonging to 29 classes.\n"
     ]
    }
   ],
   "source": [
    "from keras.preprocessing.image import ImageDataGenerator\n",
    "from keras.applications.vgg16 import preprocess_input\n",
    "batch_size = 64\n",
    "\n",
    "#train_datagen = ImageDataGenerator()\n",
    "train_datagen = ImageDataGenerator(\n",
    "        #rotation_range=40,\n",
    "        width_shift_range=0.2,\n",
    "        height_shift_range=0.2,\n",
    "        shear_range=0.2,\n",
    "        zoom_range=0.2,\n",
    "        #horizontal_flip=True,\n",
    "        fill_mode='nearest',\n",
    "        preprocessing_function=preprocess_input)\n",
    "\n",
    "train_generator = train_datagen.flow_from_directory(\n",
    "        'data/train',  # this is the target directory\n",
    "        target_size=(224, 224),  \n",
    "        batch_size=batch_size,\n",
    "        class_mode='categorical'\n",
    ") \n"
   ]
  },
  {
   "cell_type": "code",
   "execution_count": 43,
   "metadata": {},
   "outputs": [],
   "source": [
    "val_datagen = ImageDataGenerator(preprocessing_function=preprocess_input)"
   ]
  },
  {
   "cell_type": "code",
   "execution_count": 44,
   "metadata": {},
   "outputs": [
    {
     "name": "stdout",
     "output_type": "stream",
     "text": [
      "Found 17400 images belonging to 29 classes.\n"
     ]
    }
   ],
   "source": [
    "validation_generator = val_datagen.flow_from_directory(\n",
    "        'data/validation',\n",
    "        target_size=(224, 224),\n",
    "        batch_size=batch_size,\n",
    "        class_mode='categorical')"
   ]
  },
  {
   "cell_type": "code",
   "execution_count": 45,
   "metadata": {},
   "outputs": [
    {
     "name": "stdout",
     "output_type": "stream",
     "text": [
      "Epoch 1/30\n",
      "1087/1087 [==============================] - 579s 533ms/step - loss: 2.0028 - acc: 0.5592 - val_loss: 0.6420 - val_acc: 0.8060\n",
      "Epoch 2/30\n",
      "1087/1087 [==============================] - 576s 530ms/step - loss: 0.4985 - acc: 0.8490 - val_loss: 0.3060 - val_acc: 0.8996\n",
      "Epoch 3/30\n",
      "1087/1087 [==============================] - 579s 533ms/step - loss: 0.2884 - acc: 0.9107 - val_loss: 0.1995 - val_acc: 0.9351\n",
      "Epoch 4/30\n",
      "1087/1087 [==============================] - 574s 528ms/step - loss: 0.1974 - acc: 0.9376 - val_loss: 0.1654 - val_acc: 0.9458\n",
      "Epoch 5/30\n",
      "1087/1087 [==============================] - 581s 535ms/step - loss: 0.1497 - acc: 0.9526 - val_loss: 0.1023 - val_acc: 0.9678\n",
      "Epoch 6/30\n",
      "1087/1087 [==============================] - 586s 539ms/step - loss: 0.1173 - acc: 0.9630 - val_loss: 0.0859 - val_acc: 0.9706\n",
      "Epoch 7/30\n",
      "1087/1087 [==============================] - 587s 540ms/step - loss: 0.1017 - acc: 0.9674 - val_loss: 0.0772 - val_acc: 0.9745\n",
      "Epoch 8/30\n",
      "1087/1087 [==============================] - 579s 533ms/step - loss: 0.0855 - acc: 0.9715 - val_loss: 0.0678 - val_acc: 0.9776\n",
      "Epoch 9/30\n",
      "1087/1087 [==============================] - 581s 534ms/step - loss: 0.0716 - acc: 0.9771 - val_loss: 0.0650 - val_acc: 0.9773\n",
      "Epoch 10/30\n",
      "1087/1087 [==============================] - 576s 530ms/step - loss: 0.0650 - acc: 0.9789 - val_loss: 0.0459 - val_acc: 0.9844\n",
      "Epoch 11/30\n",
      "1087/1087 [==============================] - 571s 526ms/step - loss: 0.0566 - acc: 0.9813 - val_loss: 0.0555 - val_acc: 0.9810\n",
      "Epoch 12/30\n",
      "1087/1087 [==============================] - 573s 528ms/step - loss: 0.0514 - acc: 0.9834 - val_loss: 0.0483 - val_acc: 0.9834\n",
      "Epoch 13/30\n",
      "1087/1087 [==============================] - 571s 525ms/step - loss: 0.0476 - acc: 0.9844 - val_loss: 0.0313 - val_acc: 0.9893\n",
      "Epoch 14/30\n",
      "1087/1087 [==============================] - 576s 530ms/step - loss: 0.0450 - acc: 0.9863 - val_loss: 0.0341 - val_acc: 0.9887\n",
      "Epoch 15/30\n",
      "1087/1087 [==============================] - 571s 526ms/step - loss: 0.0407 - acc: 0.9866 - val_loss: 0.0296 - val_acc: 0.9902\n",
      "Epoch 16/30\n",
      "1087/1087 [==============================] - 574s 528ms/step - loss: 0.0362 - acc: 0.9882 - val_loss: 0.0309 - val_acc: 0.9901\n",
      "Epoch 17/30\n",
      "1087/1087 [==============================] - 572s 526ms/step - loss: 0.0356 - acc: 0.9886 - val_loss: 0.0259 - val_acc: 0.9911\n",
      "Epoch 18/30\n",
      "1087/1087 [==============================] - 569s 524ms/step - loss: 0.0312 - acc: 0.9894 - val_loss: 0.0230 - val_acc: 0.9921\n",
      "Epoch 19/30\n",
      "1087/1087 [==============================] - 568s 522ms/step - loss: 0.0318 - acc: 0.9895 - val_loss: 0.0263 - val_acc: 0.9904\n",
      "Epoch 20/30\n",
      "1087/1087 [==============================] - 571s 525ms/step - loss: 0.0302 - acc: 0.9900 - val_loss: 0.0287 - val_acc: 0.9896\n",
      "Epoch 21/30\n",
      "1087/1087 [==============================] - 571s 525ms/step - loss: 0.0287 - acc: 0.9905 - val_loss: 0.0257 - val_acc: 0.9910\n",
      "Epoch 22/30\n",
      "1087/1087 [==============================] - 569s 524ms/step - loss: 0.0267 - acc: 0.9912 - val_loss: 0.0209 - val_acc: 0.9932\n",
      "Epoch 23/30\n",
      "1087/1087 [==============================] - 567s 521ms/step - loss: 0.0264 - acc: 0.9916 - val_loss: 0.0203 - val_acc: 0.9934\n",
      "Epoch 24/30\n",
      "1087/1087 [==============================] - 567s 522ms/step - loss: 0.0246 - acc: 0.9919 - val_loss: 0.0179 - val_acc: 0.9937\n",
      "Epoch 25/30\n",
      "1087/1087 [==============================] - 568s 523ms/step - loss: 0.0240 - acc: 0.9924 - val_loss: 0.0206 - val_acc: 0.9928\n",
      "Epoch 26/30\n",
      "1087/1087 [==============================] - 583s 536ms/step - loss: 0.0222 - acc: 0.9928 - val_loss: 0.0154 - val_acc: 0.9950\n",
      "Epoch 27/30\n",
      "1087/1087 [==============================] - 582s 536ms/step - loss: 0.0226 - acc: 0.9928 - val_loss: 0.0206 - val_acc: 0.9933\n",
      "Epoch 28/30\n",
      "1087/1087 [==============================] - 585s 538ms/step - loss: 0.0205 - acc: 0.9933 - val_loss: 0.0166 - val_acc: 0.9949\n",
      "Epoch 29/30\n",
      "1087/1087 [==============================] - 579s 532ms/step - loss: 0.0198 - acc: 0.9931 - val_loss: 0.0175 - val_acc: 0.9943\n",
      "Epoch 30/30\n",
      "1087/1087 [==============================] - 573s 527ms/step - loss: 0.0201 - acc: 0.9936 - val_loss: 0.0134 - val_acc: 0.9955\n"
     ]
    }
   ],
   "source": [
    "callbacks = [keras.callbacks.TensorBoard(log_dir='./logs', histogram_freq=0, batch_size=32, write_graph=True, write_grads=False, write_images=False, embeddings_freq=0, embeddings_layer_names=None, embeddings_metadata=None, embeddings_data=None)]\n",
    "\n",
    "history = model_ft.fit_generator(\n",
    "      train_generator,\n",
    "      steps_per_epoch=train_generator.samples//train_generator.batch_size ,\n",
    "      epochs=30,\n",
    "      validation_data=validation_generator,\n",
    "      validation_steps=validation_generator.samples/validation_generator.batch_size,callbacks=callbacks\n",
    "      )\n",
    " \n",
    "# Save the model\n",
    "model_ft.save('small_last4.h5')"
   ]
  },
  {
   "cell_type": "code",
   "execution_count": null,
   "metadata": {},
   "outputs": [],
   "source": []
  },
  {
   "cell_type": "code",
   "execution_count": null,
   "metadata": {},
   "outputs": [],
   "source": []
  }
 ],
 "metadata": {
  "kernelspec": {
   "display_name": "Python 3",
   "language": "python",
   "name": "python3"
  },
  "language_info": {
   "codemirror_mode": {
    "name": "ipython",
    "version": 3
   },
   "file_extension": ".py",
   "mimetype": "text/x-python",
   "name": "python",
   "nbconvert_exporter": "python",
   "pygments_lexer": "ipython3",
   "version": "3.6.5"
  }
 },
 "nbformat": 4,
 "nbformat_minor": 2
}
